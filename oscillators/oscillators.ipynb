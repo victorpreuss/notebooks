{
 "cells": [
  {
   "cell_type": "markdown",
   "metadata": {},
   "source": [
    "# Electronic Oscillators\n",
    "\n",
    "Oscillators are nonlinear systems which take advantage of the circuit nonlinearities to sustain controlled oscillations. Linear circuits would require the circuit poles to reside precisely in the $j\\omega$ axis for oscillations and the amplitude would depend on the magnitude of the impulse applied. Both these conditions make linear oscillators impractical.\n",
    "\n",
    "This document presents two different ways to analyse a Colpitts structure in commom-emitter form.\n",
    "\n",
    "## Schematic and Analysis\n",
    "\n",
    "This is the full schematic of the Colpitts oscillator in commom-emitter configuration:\n",
    "\n",
    "<img src=\"img/colpitts_oscillator.png\", width=480, height=480>\n",
    "\n",
    "The schematic above can be simplified for AC Analysis:\n",
    "\n",
    "<img src=\"img/ac_colpitts_oscillator.png\", width=480, height=480>\n",
    "\n",
    "### First Method - Describing Functions\n",
    "\n",
    "Describing functions approximate a nonlinear system using the first harmonic. An oscillator is mainly concerned about the first harmonic behavior (frequency  of oscillation), therefore, the approximation is often adequate.\n",
    "\n",
    "Knowing that the collector current of the oscillator in the schematic above consists of periodic pulses for large values of $V_f$ (feedback voltage), it is shown ([here](https://www.amazon.com/Design-CMOS-Radio-Frequency-Integrated-Circuits-ebook/dp/B00AKE1Q86)) that on the limit of a train of pulses, the amplitude of the first harmonic ($I_1$) is:\n",
    "\n",
    "$$ I_1 = 2 I_{bias} $$\n",
    "\n",
    "The large-signal transconductance can be calculated by:\n",
    "\n",
    "$$ G_m = \\frac{I_1}{V_f} = \\frac{2 I_{bias}}{V_f} $$\n",
    "\n",
    "From the AC schematic it's possible to reach the following representation:\n",
    "\n",
    "<img src=\"img/simp_ac_colpitts_oscillator.png\", width=480, height=480>\n",
    "\n",
    "The dependent current generator ($G_m V_f$) produces a sinusoid whose amplitude is constantly $2 I_{bias}$ and can be replaced by a constant current sine wave. Using $C_1$ and $C_2$ as an impedance transformer, $R=1/G_m$ can be transformed to $R_p$, a resistance in parallel with $R_L$.\n",
    "\n",
    "<img src=\"img/simp2_ac_colpitts_oscillator.png\", width=480, height=480>\n",
    "\n",
    "\\begin{align}\n",
    "n      &= \\frac{C_1}{C_1+C_2} \\\\\n",
    "R_p    &= \\frac{1}{n^2 G_m} \\\\\n",
    "R_{eq} &= \\frac{R_L R_p}{R_L + R_p}\n",
    "\\end{align}\n",
    "\n",
    "With this simplification the circuit is simply a parallel RLC with,\n",
    "\n",
    "\\begin{align}\n",
    "C_{eq}     &= \\frac{C_1 C_2}{C_1+C_2} \\\\\n",
    "\\omega_{o} &= \\frac{1}{\\sqrt{L C_{eq}}}\n",
    "\\end{align}\n",
    "\n",
    "Assuming the same current flows through the tank circuit during resonance it can be written\n",
    "\n",
    "$$ \\frac{V_f}{V_{tank}} = \\frac{\\frac{I}{j \\omega C_2}}{-\\frac{I}{j \\omega C_1}} = -\\frac{C_1}{C_2} $$\n",
    "\n",
    "Now from the equivalent AC circuit\n",
    "\n",
    "$$ V_f - V_{tank} = 2 I_{bias} R_{eq} $$\n",
    "\n",
    "And finally the equations to predict the amplitude of oscillation are:\n",
    "\n",
    "\\begin{align}\n",
    "V_f      &= 2 I_{bias} R (1-n) n \\\\\n",
    "V_{tank} &= 2 I_{bias} R (1-n)^2\n",
    "\\end{align}\n",
    "\n",
    "### Second Method - Admittance Parameters\n",
    "\n",
    "## Numerical Example\n",
    "\n",
    "## Simulation Results"
   ]
  },
  {
   "cell_type": "code",
   "execution_count": 2,
   "metadata": {
    "scrolled": true
   },
   "outputs": [
    {
     "ename": "ImportError",
     "evalue": "No module named 'sympy'",
     "output_type": "error",
     "traceback": [
      "\u001b[0;31m---------------------------------------------------------------------------\u001b[0m",
      "\u001b[0;31mImportError\u001b[0m                               Traceback (most recent call last)",
      "\u001b[0;32m<ipython-input-2-6aef573226bd>\u001b[0m in \u001b[0;36m<module>\u001b[0;34m()\u001b[0m\n\u001b[0;32m----> 1\u001b[0;31m \u001b[0;32mimport\u001b[0m \u001b[0msympy\u001b[0m \u001b[0;32mas\u001b[0m \u001b[0msp\u001b[0m\u001b[0;34m\u001b[0m\u001b[0m\n\u001b[0m",
      "\u001b[0;31mImportError\u001b[0m: No module named 'sympy'"
     ]
    }
   ],
   "source": [
    "import sympy as sp"
   ]
  }
 ],
 "metadata": {
  "kernelspec": {
   "display_name": "Python 3",
   "language": "python",
   "name": "python3"
  },
  "language_info": {
   "codemirror_mode": {
    "name": "ipython",
    "version": 3
   },
   "file_extension": ".py",
   "mimetype": "text/x-python",
   "name": "python",
   "nbconvert_exporter": "python",
   "pygments_lexer": "ipython3",
   "version": "3.4.5"
  }
 },
 "nbformat": 4,
 "nbformat_minor": 2
}
