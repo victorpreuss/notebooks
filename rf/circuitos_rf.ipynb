{
 "cells": [
  {
   "cell_type": "markdown",
   "metadata": {},
   "source": [
    "# Circuitos de Rádio-Frequência\n",
    "\n",
    "## Ex 1: Figura de ruído do estágio de RF de um receptor BLE\n",
    "\n",
    "O cenário consiste de um celular utilizando tecnologia BLE transmitindo um sinal de Marte. O sinal deve ser recebido pela antena do telescópio Lovell. Qual a figura de ruído máxima do estágio de RF do telescópio Lovell para que seja respeitada uma BER de $ 10^{-3} $ no padrão BLE?\n",
    "\n",
    "### Dados:\n",
    "\n",
    "Frequência da portadora (BLE):\n",
    "\n",
    "$\n",
    "\\begin{align}\n",
    "f = 2.4 GHz\n",
    "\\end{align}\n",
    "$\n",
    "\n",
    "Largura de banda (BLE):\n",
    "\n",
    "$\n",
    "\\begin{align}\n",
    "BW = 2 MHz\n",
    "\\end{align}\n",
    "$\n",
    "\n",
    "Taxa de transmissão de bits:\n",
    "\n",
    "$\n",
    "\\begin{align}\n",
    "R = 1 Mbps\n",
    "\\end{align}\n",
    "$\n",
    "\n",
    "Taxa de erro de bit:\n",
    "\n",
    "$\n",
    "\\begin{align}\n",
    "BER = 10^{-3}\n",
    "\\end{align}\n",
    "$\n",
    "\n",
    "Razão da energia por bit pela densidade espectral de potência do ruído (a partir da da curva $BER$ por $\\frac{E_b}{N_o}$ do padrão BLE):\n",
    "\n",
    "$\n",
    "\\begin{align}\n",
    "\\frac{E_b}{N_o} = 7 dB\n",
    "\\end{align}\n",
    "$\n",
    "\n",
    "Distância entre transmissor (Marte) e receptor (Terra):\n",
    "\n",
    "$\n",
    "\\begin{align}\n",
    "d = 55 Gm\n",
    "\\end{align}\n",
    "$\n",
    "\n",
    "Potência do transmissor:\n",
    "\n",
    "$\n",
    "\\begin{align}\n",
    "P_{Tx} = 10 mW\n",
    "\\end{align}\n",
    "$\n",
    "\n",
    "Ganho da antena do transmissor:\n",
    "\n",
    "$\n",
    "\\begin{align}\n",
    "G_{Tx} = 20 dB\n",
    "\\end{align}\n",
    "$\n",
    "\n",
    "Ganho da antena do telescópio Lovell pode ser estimado a partir do ganho de uma antena parabólica:\n",
    "\n",
    "$\n",
    "\\begin{align}\n",
    "G_{Rx} &= 10 log \\bigg(k \\bigg(\\frac{\\pi d}{\\lambda}\\bigg)^2\\bigg),\n",
    "\\end{align}\n",
    "$\n",
    "\n",
    "O cálculo da potência no receptor ($P_{Rx}$) pode ser feito a partir da equação de transmissão de Friss (em dB):\n",
    "\n",
    "$\n",
    "\\begin{align}\n",
    "P_{Rx} = P_{Tx} + G_{Tx} + G_{Rx} + 20 log \\bigg(\\frac{\\lambda}{4 \\pi d}\\bigg)\n",
    "\\end{align}\n",
    "$\n",
    "\n",
    "A figura de ruído pode ser obtida a partir das seguintes equações:\n",
    "\n",
    "$\n",
    "\\begin{align}\n",
    "&N_o = kT \\\\\n",
    "&N = N_o BW \\\\\n",
    "&SNR_i = \\frac{P_{Rx}}{N} \\\\\n",
    "&SNR_{o,min} = \\frac{R}{BW}\\frac{E_b}{N_o} \\\\\n",
    "&NF = \\frac{SNR_i}{SNR_{o,min}},\n",
    "\\end{align}\n",
    "$\n",
    "\n",
    "onde $N_o$ é a densidade espectral de potência do ruído térmico, $N$ é potência do ruído para a banda do BLE, $SNR_i$ é a relação sinal-ruído na entrada do estágio de RF, $SNR_{o,min}$ é a menor relação sinal-ruído permitida pelo padrão BLE na entrada do processo digital e $NF$ é a figura de ruído máxima permitida ao estágio de RF para que ele esteja adequado ao padrão BLE."
   ]
  },
  {
   "cell_type": "code",
   "execution_count": 39,
   "metadata": {},
   "outputs": [],
   "source": [
    "import numpy as np\n",
    "import scipy.constants as sp\n",
    "\n",
    "# temperatura de 290 Kelvin\n",
    "T = 290\n",
    "\n",
    "# distancia entre receptor e transmissor e' 55 Gigametros\n",
    "d = 55 * 10**9\n",
    "\n",
    "# frequencia da portadora\n",
    "f = 2.4 * 10**9\n",
    "\n",
    "# largura de banda do BLE\n",
    "BW = 2 * 10**6\n",
    "\n",
    "# taxa de transmissao de bits\n",
    "R = 1 * 10**6\n",
    "\n",
    "# razao da energia do bit por ruido e' 7 dB\n",
    "EbNo = 10**(7 / 10)\n",
    "\n",
    "# potencia no transmissor e' 10 mW = 10 dBm\n",
    "Ptx = 10 * 10**(-3)\n",
    "Ptxdb = 10 * np.log10(Ptx / (1 * 10**(-3)))\n",
    "\n",
    "# ganho da antena do transmissor e' 20 dB\n",
    "Gtxdb = 20\n",
    "\n",
    "# razão entre area efetiva e fisica da antena \n",
    "k = 0.6\n",
    "\n",
    "# diametro do telescopio Lovell\n",
    "di = 76.2\n",
    "\n",
    "# comprimento de onda da portadora em 2.4 GHz\n",
    "lambdaa = sp.c / f"
   ]
  },
  {
   "cell_type": "code",
   "execution_count": 34,
   "metadata": {},
   "outputs": [
    {
     "name": "stdout",
     "output_type": "stream",
     "text": [
      "Ganho da antena do receptor = 63.43 dB\n"
     ]
    }
   ],
   "source": [
    "# estimativa do ganho da antena do telescopio Lovell\n",
    "Grxdb = 10 * np.log10(k * ((sp.pi * di / lambdaa) ** 2))\n",
    "\n",
    "print(\"Ganho da antena do receptor = {} dB\".format(Grx))"
   ]
  },
  {
   "cell_type": "code",
   "execution_count": 35,
   "metadata": {},
   "outputs": [
    {
     "name": "stdout",
     "output_type": "stream",
     "text": [
      "Potência recebida no receptor = -161.42784168581565 dBm\n"
     ]
    }
   ],
   "source": [
    "# calculo da potencia no receptor utilizando a formula de Friss em dB\n",
    "Prxdb = Ptxdb + Gtxdb + Grxdb + 20 * np.log10(lambdaa / (4 * sp.pi * d))\n",
    "Prx = 10**(Prxdb / 10) * 10**(-3) # em Watts\n",
    "\n",
    "print(\"Potência recebida no receptor = {} dBm\".format(Prxdb))"
   ]
  },
  {
   "cell_type": "code",
   "execution_count": 40,
   "metadata": {},
   "outputs": [
    {
     "name": "stdout",
     "output_type": "stream",
     "text": [
      "Potencia do sinal na entrada = 7.19806611570255e-20\n",
      "Potencia do ruido na entrada = 2.76129704e-20\n",
      "Razao sinal ruido na entrada = 2.6067699387033527\n",
      "Razao sinal ruido na saida = 2.505936168136361\n",
      "Figura de ruido = 0.1713269972817134 dB\n"
     ]
    }
   ],
   "source": [
    "# calculo da densidade espectral de ruido\n",
    "No = sp.k * T\n",
    "\n",
    "# calculo da potencia do ruido na banda BLE\n",
    "N = No * BW\n",
    "\n",
    "# razao sinal-ruido na entrada do estagio RF\n",
    "SNRi = Prx / N\n",
    "\n",
    "# razao sinal-ruido minima na saida do estagio RF\n",
    "SNRo = R * EbNo / BW\n",
    "\n",
    "# figura de ruido\n",
    "NF = SNRi / SNRo\n",
    "\n",
    "print(\"Potencia do sinal na entrada = {}\".format(Prx))\n",
    "print(\"Potencia do ruido na entrada = {}\".format(N))\n",
    "print(\"Razao sinal ruido na entrada = {}\".format(SNRi))\n",
    "print(\"Razao sinal ruido na saida = {}\".format(SNRo))\n",
    "print(\"Figura de ruido = {} dB\".format(10*np.log10(NF)))"
   ]
  },
  {
   "cell_type": "markdown",
   "metadata": {},
   "source": [
    "### Conclusões\n",
    "\n",
    "Como é possível observar nos resultados obtidos, a potência que chega ao receptor é inferior a potência do sinal de ruído que chega ao receptor, portanto não é possível atingir a SNR demandada pelo padrão BLE. A única forma disto ocorrer é caso o estágio de RF consiga aumentar a SNR do sistema (NF < 0 dB), o que não é fisicamente factível. Porém é visto pelo resultado da figura de ruído ($NF = -54 dB$) que é isto que seria necessário para atender as especificações do padrão BLE.\n",
    "\n",
    "Observou-se que reduzindo a temperatura para 0.001 K (próximo do zero absoluto), a potência do ruído baixou o suficiente para que a figura de ruído resultante fosse positiva, tornando o projeto do sistema \"factível\"."
   ]
  }
 ],
 "metadata": {
  "kernelspec": {
   "display_name": "Python 3",
   "language": "python",
   "name": "python3"
  },
  "language_info": {
   "codemirror_mode": {
    "name": "ipython",
    "version": 3
   },
   "file_extension": ".py",
   "mimetype": "text/x-python",
   "name": "python",
   "nbconvert_exporter": "python",
   "pygments_lexer": "ipython3",
   "version": "3.4.5"
  }
 },
 "nbformat": 4,
 "nbformat_minor": 2
}
